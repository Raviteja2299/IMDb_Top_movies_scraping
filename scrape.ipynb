{
 "cells": [
  {
   "cell_type": "code",
   "execution_count": 52,
   "metadata": {},
   "outputs": [],
   "source": [
    "from bs4 import BeautifulSoup\n",
    "import requests\n",
    "from csv import writer "
   ]
  },
  {
   "cell_type": "code",
   "execution_count": 53,
   "metadata": {},
   "outputs": [],
   "source": [
    "url = 'https://www.imdb.com/chart/top/'\n",
    "\n",
    "try :\n",
    "    page = requests.get(url)\n",
    "    soup = BeautifulSoup(page.text,'html.parser')\n",
    "except Exception as e :\n",
    "    print(e)\n",
    "\n"
   ]
  },
  {
   "cell_type": "code",
   "execution_count": 56,
   "metadata": {},
   "outputs": [],
   "source": [
    "data = soup.find(class_='lister-list').find_all('tr')\n",
    "\n",
    "with open('imbd_data.csv' , 'w',encoding='utf8',newline=\"\") as f:\n",
    "    write = writer(f)\n",
    "    headers = ['S.NO' , 'Movie Title' , 'Year' , 'Rating']\n",
    "    write.writerow(headers)\n",
    "\n",
    "\n",
    "    for item in data :\n",
    "        title_movie =item.find(class_='titleColumn').a.text\n",
    "        sno = item.find(class_='titleColumn').get_text(strip= True).split('.')[0]\n",
    "\n",
    "        year = item.find(class_=\"secondaryInfo\").text[1:5]\n",
    "        rating = item.find(class_='ratingColumn imdbRating').text\n",
    "\n",
    "        write.writerow([sno,title_movie , year,rating])"
   ]
  }
 ],
 "metadata": {
  "interpreter": {
   "hash": "5e1c5019c463a188164d199885e66bd2a7823493db870710fec6737d7b1699b8"
  },
  "kernelspec": {
   "display_name": "Python 3.8.8 ('base')",
   "language": "python",
   "name": "python3"
  },
  "language_info": {
   "codemirror_mode": {
    "name": "ipython",
    "version": 3
   },
   "file_extension": ".py",
   "mimetype": "text/x-python",
   "name": "python",
   "nbconvert_exporter": "python",
   "pygments_lexer": "ipython3",
   "version": "3.8.8"
  },
  "orig_nbformat": 4
 },
 "nbformat": 4,
 "nbformat_minor": 2
}
